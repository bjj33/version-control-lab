{
 "cells": [
  {
   "cell_type": "code",
   "execution_count": 9,
   "metadata": {},
   "outputs": [
    {
     "name": "stdin",
     "output_type": "stream",
     "text": [
      "Please enter your first name:  Caroline\n",
      "Please enter a letter in your name you want to remove:  i\n"
     ]
    },
    {
     "name": "stdout",
     "output_type": "stream",
     "text": [
      "Your new name is: Carolne\n",
      "Your new name in caps is: CAROLNE\n"
     ]
    },
    {
     "name": "stdin",
     "output_type": "stream",
     "text": [
      "What is your last name? Curtis\n"
     ]
    },
    {
     "name": "stdout",
     "output_type": "stream",
     "text": [
      "Your full, new, name is:  Carolne Curtis\n"
     ]
    }
   ],
   "source": [
    "name = input(\"Please enter your first name: \")\n",
    "removeChar = input(\"Please enter a letter in your name you want to remove: \")\n",
    "\n",
    "newString = name.replace(removeChar, \"\")\n",
    "\n",
    "while True:\n",
    "    if newString == name:\n",
    "        removeChar = input(\"I'm sorry. It looks like that name doesn't have that character. Please enter another character: \")\n",
    "        newString = name.replace(removeChar, \" \")\n",
    "    else:\n",
    "        break\n",
    "print(\"Your new name is:\", newString)\n",
    "capsString = newString.upper()\n",
    "print(\"Your new name in caps is:\", capsString)\n",
    "lastName = input(\"What is your last name?\")\n",
    "print(\"Your full, new, name is: \", newString, lastName)"
   ]
  },
  {
   "cell_type": "code",
   "execution_count": null,
   "metadata": {},
   "outputs": [],
   "source": []
  }
 ],
 "metadata": {
  "kernelspec": {
   "display_name": "Python 3",
   "language": "python",
   "name": "python3"
  },
  "language_info": {
   "codemirror_mode": {
    "name": "ipython",
    "version": 3
   },
   "file_extension": ".py",
   "mimetype": "text/x-python",
   "name": "python",
   "nbconvert_exporter": "python",
   "pygments_lexer": "ipython3",
   "version": "3.8.3"
  }
 },
 "nbformat": 4,
 "nbformat_minor": 4
}
