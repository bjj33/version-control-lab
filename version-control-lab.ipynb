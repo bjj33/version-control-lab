{
 "cells": [
  {
   "cell_type": "code",
   "execution_count": 15,
   "metadata": {},
   "outputs": [
    {
     "name": "stdin",
     "output_type": "stream",
     "text": [
      "Please enter your name:  Brandon\n",
      "Please enter a letter in your name you want to remove:  i\n",
      "I'm sorry. It looks like that name doesn't have that character. Please enter another character:  z\n",
      "I'm sorry. It looks like that name doesn't have that character. Please enter another character:  l\n",
      "I'm sorry. It looks like that name doesn't have that character. Please enter another character:  a\n"
     ]
    },
    {
     "name": "stdout",
     "output_type": "stream",
     "text": [
      "Br ndon\n",
      "Your new name is: Brndon\n"
     ]
    }
   ],
   "source": [
    "name = input(\"Please enter your name: \")\n",
    "removeChar = input(\"Please enter a letter in your name you want to remove: \")\n",
    "\n",
    "newString = name.replace(removeChar, \" \")\n",
    "\n",
    "while True:\n",
    "    if newString == name:\n",
    "        removeChar = input(\"I'm sorry. It looks like that name doesn't have that character. Please enter another character: \")\n",
    "        newString = name.replace(removeChar, \" \")\n",
    "    else:\n",
    "        break"
   ]
  },
  {
   "cell_type": "code",
   "execution_count": null,
   "metadata": {},
   "outputs": [],
   "source": []
  }
 ],
 "metadata": {
  "kernelspec": {
   "display_name": "Python 3",
   "language": "python",
   "name": "python3"
  },
  "language_info": {
   "codemirror_mode": {
    "name": "ipython",
    "version": 3
   },
   "file_extension": ".py",
   "mimetype": "text/x-python",
   "name": "python",
   "nbconvert_exporter": "python",
   "pygments_lexer": "ipython3",
   "version": "3.8.3"
  }
 },
 "nbformat": 4,
 "nbformat_minor": 4
}
